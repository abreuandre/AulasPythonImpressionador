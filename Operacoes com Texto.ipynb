{
 "cells": [
  {
   "cell_type": "code",
   "execution_count": 2,
   "id": "a2ef23f7-832b-43d9-960f-460d747b78bb",
   "metadata": {},
   "outputs": [
    {
     "name": "stdout",
     "output_type": "stream",
     "text": [
      "Meu nome é André\n"
     ]
    }
   ],
   "source": [
    "print(\"Meu nome é André\")"
   ]
  },
  {
   "cell_type": "code",
   "execution_count": 6,
   "id": "377e55b0-3be7-4d4e-bd65-a0751a2c60bc",
   "metadata": {},
   "outputs": [
    {
     "name": "stdout",
     "output_type": "stream",
     "text": [
      "Meu nome é André\n"
     ]
    }
   ],
   "source": [
    "print(\"Meu nome é\" + \" André\")"
   ]
  },
  {
   "cell_type": "code",
   "execution_count": 8,
   "id": "6e17f2be-f68d-4644-a433-eae63624a554",
   "metadata": {},
   "outputs": [
    {
     "name": "stdout",
     "output_type": "stream",
     "text": [
      "False\n"
     ]
    }
   ],
   "source": [
    "print(\"Meu nome é\" in \" André\")"
   ]
  },
  {
   "cell_type": "code",
   "execution_count": 10,
   "id": "1a3826b9-9635-481a-a749-a2c36ea62119",
   "metadata": {},
   "outputs": [
    {
     "name": "stdout",
     "output_type": "stream",
     "text": [
      "True\n"
     ]
    }
   ],
   "source": [
    "print(\"A\" in \" André\")"
   ]
  },
  {
   "cell_type": "code",
   "execution_count": 12,
   "id": "d06ea735-55ec-40e5-8d95-4a6826bc1050",
   "metadata": {},
   "outputs": [
    {
     "name": "stdout",
     "output_type": "stream",
     "text": [
      "False\n"
     ]
    }
   ],
   "source": [
    "print(\"a\" in \" André\")"
   ]
  }
 ],
 "metadata": {
  "kernelspec": {
   "display_name": "Python [conda env:base] *",
   "language": "python",
   "name": "conda-base-py"
  },
  "language_info": {
   "codemirror_mode": {
    "name": "ipython",
    "version": 3
   },
   "file_extension": ".py",
   "mimetype": "text/x-python",
   "name": "python",
   "nbconvert_exporter": "python",
   "pygments_lexer": "ipython3",
   "version": "3.12.7"
  }
 },
 "nbformat": 4,
 "nbformat_minor": 5
}
