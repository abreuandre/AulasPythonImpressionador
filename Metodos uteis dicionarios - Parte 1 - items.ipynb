{
 "cells": [
  {
   "cell_type": "markdown",
   "id": "cd8eee01-949a-478f-b721-e56770ac1595",
   "metadata": {},
   "source": [
    "Métodos Úteis Dicionários(Parte 1) - items"
   ]
  },
  {
   "cell_type": "markdown",
   "id": "3b85a83e-805d-4e23-abbb-f86267427748",
   "metadata": {},
   "source": [
    "Estrutura\n",
    "\n",
    "itens_dicionario = dicionario.items()\n",
    "\n",
    "ou então:\n",
    "\n",
    "for item in dicionario.items()\n",
    "\tcada item do dicionario em formato de tupla"
   ]
  },
  {
   "cell_type": "code",
   "execution_count": 3,
   "id": "f0351b74-89dc-4273-b947-8381fcc048b4",
   "metadata": {},
   "outputs": [
    {
     "name": "stdout",
     "output_type": "stream",
     "text": [
      "dict_items([('iphone', 15000), ('samsung galaxy', 12000), ('tv samsung', 10000), ('ps5', 14300), ('tablet', 1720), ('ipad', 1000), ('notebook asus', 2450), ('notebook dell', 17000), ('tv philco', 2500), ('notebook hp', 1000)])\n"
     ]
    }
   ],
   "source": [
    "vendas_tecnologia = {'iphone': 15000, 'samsung galaxy': 12000, 'tv samsung': 10000, 'ps5': 14300, 'tablet': 1720, 'ipad': 1000, 'notebook asus': 2450, 'notebook dell': 17000, 'tv philco': 2500, 'notebook hp': 1000}\n",
    "\n",
    "itens_dicionario = vendas_tecnologia.items()\n",
    "print(itens_dicionario)"
   ]
  },
  {
   "cell_type": "code",
   "execution_count": 5,
   "id": "ed557df6-8ecd-4bc5-809b-b18e9457690f",
   "metadata": {},
   "outputs": [
    {
     "name": "stdout",
     "output_type": "stream",
     "text": [
      "('iphone', 15000)\n",
      "('samsung galaxy', 12000)\n",
      "('tv samsung', 10000)\n",
      "('ps5', 14300)\n",
      "('tablet', 1720)\n",
      "('ipad', 1000)\n",
      "('notebook asus', 2450)\n",
      "('notebook dell', 17000)\n",
      "('tv philco', 2500)\n",
      "('notebook hp', 1000)\n"
     ]
    }
   ],
   "source": [
    "vendas_tecnologia = {'iphone': 15000, 'samsung galaxy': 12000, 'tv samsung': 10000, 'ps5': 14300, 'tablet': 1720, 'ipad': 1000, 'notebook asus': 2450, 'notebook dell': 17000, 'tv philco': 2500, 'notebook hp': 1000}\n",
    "\n",
    "for item in vendas_tecnologia.items():\n",
    "    print(item)"
   ]
  },
  {
   "cell_type": "code",
   "execution_count": 7,
   "id": "da33d581-6df3-4c11-9886-f672da089ae2",
   "metadata": {},
   "outputs": [
    {
     "name": "stdout",
     "output_type": "stream",
     "text": [
      "iphone: 15000 unidades\n",
      "samsung galaxy: 12000 unidades\n",
      "tv samsung: 10000 unidades\n",
      "ps5: 14300 unidades\n",
      "tablet: 1720 unidades\n",
      "ipad: 1000 unidades\n",
      "notebook asus: 2450 unidades\n",
      "notebook dell: 17000 unidades\n",
      "tv philco: 2500 unidades\n",
      "notebook hp: 1000 unidades\n"
     ]
    }
   ],
   "source": [
    "vendas_tecnologia = {'iphone': 15000, 'samsung galaxy': 12000, 'tv samsung': 10000, 'ps5': 14300, 'tablet': 1720, 'ipad': 1000, 'notebook asus': 2450, 'notebook dell': 17000, 'tv philco': 2500, 'notebook hp': 1000}\n",
    "\n",
    "for produto, qtde in vendas_tecnologia.items():\n",
    "    print('{}: {} unidades'.format(produto, qtde))"
   ]
  },
  {
   "cell_type": "markdown",
   "id": "52e6e043-0e9b-417e-9cd8-ba4fe0581fdb",
   "metadata": {},
   "source": [
    "Quais produtos venderam mais de 5000 unidades?"
   ]
  },
  {
   "cell_type": "code",
   "execution_count": 11,
   "id": "e39e6d01-d99f-4f5c-9de3-b1b7edb454f3",
   "metadata": {},
   "outputs": [
    {
     "name": "stdout",
     "output_type": "stream",
     "text": [
      "iphone: 15000 unidades\n",
      "samsung galaxy: 12000 unidades\n",
      "tv samsung: 10000 unidades\n",
      "ps5: 14300 unidades\n",
      "notebook dell: 17000 unidades\n",
      "------------------------\n",
      "iphone: 15000 unidades\n",
      "samsung galaxy: 12000 unidades\n",
      "tv samsung: 10000 unidades\n",
      "ps5: 14300 unidades\n",
      "notebook dell: 17000 unidades\n"
     ]
    }
   ],
   "source": [
    "# forma 1 -> usando apenas o dicionario e as chaves\n",
    "for chave in vendas_tecnologia:\n",
    "    if vendas_tecnologia[chave] > 5000:\n",
    "        print('{}: {} unidades'.format(chave, vendas_tecnologia[chave]))\n",
    "\n",
    "print('------------------------')\n",
    "\n",
    "# forma 2 -> usando o dicionario.items()\n",
    "for produto, qtde in vendas_tecnologia.items():\n",
    "    if qtde > 5000:\n",
    "        print('{}: {} unidades'.format(produto, qtde))"
   ]
  },
  {
   "cell_type": "code",
   "execution_count": null,
   "id": "2921b2da-4332-4e9c-b790-37638d74c99f",
   "metadata": {},
   "outputs": [],
   "source": []
  }
 ],
 "metadata": {
  "kernelspec": {
   "display_name": "Python [conda env:base] *",
   "language": "python",
   "name": "conda-base-py"
  },
  "language_info": {
   "codemirror_mode": {
    "name": "ipython",
    "version": 3
   },
   "file_extension": ".py",
   "mimetype": "text/x-python",
   "name": "python",
   "nbconvert_exporter": "python",
   "pygments_lexer": "ipython3",
   "version": "3.12.7"
  }
 },
 "nbformat": 4,
 "nbformat_minor": 5
}
