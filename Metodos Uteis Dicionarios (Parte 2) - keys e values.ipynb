{
 "cells": [
  {
   "cell_type": "markdown",
   "id": "5ca11eb6-3bd6-4f20-83dc-d2d105b50b50",
   "metadata": {},
   "source": [
    ".keys() -> uma \"lista\" com todas as chaves do dicionario\n",
    "\n",
    ".values() -> uma \"lista\" com todos os valores do dicionario\n",
    "\n",
    "Obs: Se o dicionário for modificado, automaticamente essas variáveis são modificadas, mesmo tendo sido criadas anteriormente."
   ]
  },
  {
   "cell_type": "code",
   "execution_count": 1,
   "id": "e317b291-4f17-4b8a-a5e4-1292d31dfa47",
   "metadata": {},
   "outputs": [
    {
     "name": "stdout",
     "output_type": "stream",
     "text": [
      "dict_keys(['iphone', 'samsung galaxy', 'tv samsung', 'ps5', 'tablet', 'ipad', 'notebook asus', 'notebook dell', 'tv philco', 'notebook hp'])\n",
      "dict_values([15000, 12000, 10000, 14300, 1720, 1000, 2450, 17000, 2500, 1000])\n"
     ]
    }
   ],
   "source": [
    "vendas_tecnologia = {'iphone': 15000, 'samsung galaxy': 12000, 'tv samsung': 10000, 'ps5': 14300, 'tablet': 1720, 'ipad': 1000, 'notebook asus': 2450, 'notebook dell': 17000, 'tv philco': 2500, 'notebook hp': 1000}\n",
    "\n",
    "chaves = vendas_tecnologia.keys()\n",
    "valores = vendas_tecnologia.values()\n",
    "print(chaves)\n",
    "print(valores)"
   ]
  },
  {
   "cell_type": "code",
   "execution_count": 10,
   "id": "565ae68f-769c-44ce-9355-8adb259f063d",
   "metadata": {},
   "outputs": [
    {
     "name": "stdout",
     "output_type": "stream",
     "text": [
      "dict_values([15000, 12000, 10000, 14300, 1720, 1000, 2450, 17000, 2500, 1000, 10])\n",
      "[15000, 12000, 10000, 14300, 1720, 1000, 2450, 17000, 2500, 1000, 10]\n"
     ]
    }
   ],
   "source": [
    "vendas_tecnologia['liraphone'] = 10\n",
    "#print(chaves)\n",
    "print(valores)\n",
    "#print(list(chaves))\n",
    "print(list(valores))"
   ]
  },
  {
   "cell_type": "markdown",
   "id": "50330cfa-a0b1-4f6d-808f-1a5717787bc7",
   "metadata": {},
   "source": [
    "O for vai funcionar normal em dict_listas, porque não deixa de ser uma lista de itens que pode ser percorrida\n",
    "(itarable), mas o que aprendemos de lista não necessariamente se aplicam a essas dict_listas.\n",
    "\n",
    "Para transformar as dict_listas em listas normais, usamos a função list:\n",
    "\n",
    ". lista_chaves = list(dicionario.keys())\n",
    "\n",
    ". Pode ser útil caso a gente queira fazer alguma organização das chaves. Ex: Imprimir uma lista com os valores em ordem alfabética, de forma que todas as tvs fiquem juntas, todos os iphone/ipad também e assim vai:"
   ]
  },
  {
   "cell_type": "code",
   "execution_count": 14,
   "id": "e149857a-ae62-4f34-982f-8fcf54b50199",
   "metadata": {},
   "outputs": [
    {
     "name": "stdout",
     "output_type": "stream",
     "text": [
      "iphone: 15000 unidades\n",
      "samsung galaxy: 12000 unidades\n",
      "tv samsung: 10000 unidades\n",
      "ps5: 14300 unidades\n",
      "tablet: 1720 unidades\n",
      "ipad: 1000 unidades\n",
      "notebook asus: 2450 unidades\n",
      "notebook dell: 17000 unidades\n",
      "tv philco: 2500 unidades\n",
      "notebook hp: 1000 unidades\n",
      "liraphone: 10 unidades\n",
      "----------------------------------------\n",
      "ipad: 1000 unidades\n",
      "iphone: 15000 unidades\n",
      "liraphone: 10 unidades\n",
      "notebook asus: 2450 unidades\n",
      "notebook dell: 17000 unidades\n",
      "notebook hp: 1000 unidades\n",
      "ps5: 14300 unidades\n",
      "samsung galaxy: 12000 unidades\n",
      "tablet: 1720 unidades\n",
      "tv philco: 2500 unidades\n",
      "tv samsung: 10000 unidades\n"
     ]
    }
   ],
   "source": [
    "for chave in vendas_tecnologia:\n",
    "    print('{}: {} unidades'.format(chave, vendas_tecnologia[chave]))\n",
    "print('-' * 40)\n",
    "\n",
    "#agora se quisermos organizar isso, fazemos:\n",
    "lista_chaves = list(chaves)\n",
    "lista_chaves.sort()\n",
    "\n",
    "for chave in lista_chaves:\n",
    "    print('{}: {} unidades'.format(chave, vendas_tecnologia[chave]))"
   ]
  },
  {
   "cell_type": "code",
   "execution_count": null,
   "id": "053acb8d-c202-41a7-ad3e-8262fb5bd5c0",
   "metadata": {},
   "outputs": [],
   "source": []
  }
 ],
 "metadata": {
  "kernelspec": {
   "display_name": "Python [conda env:base] *",
   "language": "python",
   "name": "conda-base-py"
  },
  "language_info": {
   "codemirror_mode": {
    "name": "ipython",
    "version": 3
   },
   "file_extension": ".py",
   "mimetype": "text/x-python",
   "name": "python",
   "nbconvert_exporter": "python",
   "pygments_lexer": "ipython3",
   "version": "3.12.7"
  }
 },
 "nbformat": 4,
 "nbformat_minor": 5
}
