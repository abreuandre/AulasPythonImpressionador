{
 "cells": [
  {
   "cell_type": "markdown",
   "id": "7d7b73ec-83a7-4d83-8fe0-fe9ba16a5d0c",
   "metadata": {},
   "source": [
    "Meu primeiro Programa, bora pra cima Hashtag"
   ]
  },
  {
   "cell_type": "code",
   "execution_count": 14,
   "id": "f2c1f148-24b9-4b8b-9001-fc22102f7cb5",
   "metadata": {},
   "outputs": [
    {
     "name": "stdout",
     "output_type": "stream",
     "text": [
      "um texto qualquer\n"
     ]
    }
   ],
   "source": [
    "print(\"um texto qualquer\")"
   ]
  }
 ],
 "metadata": {
  "kernelspec": {
   "display_name": "Python [conda env:base] *",
   "language": "python",
   "name": "conda-base-py"
  },
  "language_info": {
   "codemirror_mode": {
    "name": "ipython",
    "version": 3
   },
   "file_extension": ".py",
   "mimetype": "text/x-python",
   "name": "python",
   "nbconvert_exporter": "python",
   "pygments_lexer": "ipython3",
   "version": "3.12.7"
  }
 },
 "nbformat": 4,
 "nbformat_minor": 5
}
