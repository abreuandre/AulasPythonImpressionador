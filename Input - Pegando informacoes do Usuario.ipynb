{
 "cells": [
  {
   "cell_type": "code",
   "execution_count": 3,
   "id": "b020bc99-4c59-412d-93cf-edac18945eaf",
   "metadata": {},
   "outputs": [
    {
     "name": "stdin",
     "output_type": "stream",
     "text": [
      "Qual é o seu nome? André\n"
     ]
    },
    {
     "data": {
      "text/plain": [
       "'André'"
      ]
     },
     "execution_count": 3,
     "metadata": {},
     "output_type": "execute_result"
    }
   ],
   "source": [
    "input(\"Qual é o seu nome?\")"
   ]
  },
  {
   "cell_type": "code",
   "execution_count": 5,
   "id": "e5957e5b-86ba-45c3-a556-56dfe7cd0f27",
   "metadata": {},
   "outputs": [
    {
     "name": "stdin",
     "output_type": "stream",
     "text": [
      "Qual é o seu nome? André\n"
     ]
    }
   ],
   "source": [
    "nome = input(\"Qual é o seu nome?\")"
   ]
  },
  {
   "cell_type": "code",
   "execution_count": 13,
   "id": "26a8e255-bfd7-4063-ab3b-c8691701d5d5",
   "metadata": {},
   "outputs": [
    {
     "name": "stdin",
     "output_type": "stream",
     "text": [
      "Qual é o seu primeiro nome? André\n",
      "Qual é o seu sobrenome? Abreu\n"
     ]
    },
    {
     "name": "stdout",
     "output_type": "stream",
     "text": [
      "André Abreu\n"
     ]
    }
   ],
   "source": [
    "nome = input(\"Qual é o seu primeiro nome?\")\n",
    "sobrenome = input(\"Qual é o seu sobrenome?\")\n",
    "\n",
    "print(nome + \" \" + sobrenome)"
   ]
  },
  {
   "cell_type": "code",
   "execution_count": null,
   "id": "92859d36-08fd-4400-99bb-db3c60fe550a",
   "metadata": {},
   "outputs": [],
   "source": []
  }
 ],
 "metadata": {
  "kernelspec": {
   "display_name": "Python [conda env:base] *",
   "language": "python",
   "name": "conda-base-py"
  },
  "language_info": {
   "codemirror_mode": {
    "name": "ipython",
    "version": 3
   },
   "file_extension": ".py",
   "mimetype": "text/x-python",
   "name": "python",
   "nbconvert_exporter": "python",
   "pygments_lexer": "ipython3",
   "version": "3.12.7"
  }
 },
 "nbformat": 4,
 "nbformat_minor": 5
}
