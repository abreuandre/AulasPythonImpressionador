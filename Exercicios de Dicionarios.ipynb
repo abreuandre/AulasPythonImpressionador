{
 "cells": [
  {
   "cell_type": "markdown",
   "id": "6a6a9ba2-c941-4cb1-a6f7-1fc9527bed91",
   "metadata": {},
   "source": [
    "Exercícios de Dicionários"
   ]
  },
  {
   "cell_type": "markdown",
   "id": "a0c4d2e0-ce2d-4a62-b80f-14e478f6ab46",
   "metadata": {},
   "source": [
    "Exercício 1(OBS: Baixar o arquivo original na aula para ver os estados e seus níveis de CO2)"
   ]
  },
  {
   "cell_type": "code",
   "execution_count": null,
   "id": "4f0c7fcd-8192-433f-bb59-ad6f32549d9a",
   "metadata": {},
   "outputs": [],
   "source": [
    "for estado in niveis_co2:\n",
    "\tqtde_sensores = len(niveis_co2[estado])\n",
    "\ttotal_co2 = sum(niveis_co2[estado])\n",
    "\tmedia_co2 = total_co2 / qtde_sensores\n",
    "\tif media_co2 > 450:\n",
    "\t    print(\"{} está com níveis altíssimos de CO2 (490), chamar equipe especializada para verificar a região\".format(estado, media_co2))"
   ]
  },
  {
   "cell_type": "markdown",
   "id": "6acd8ed0-b9ad-4596-b2f9-3fe49c5f487f",
   "metadata": {},
   "source": [
    "Exercício 2(OBS: Baixar o arquivo da aula que contém o link a ser analisado)"
   ]
  },
  {
   "cell_type": "code",
   "execution_count": null,
   "id": "781f2453-981c-468f-b4c0-b377a23819bc",
   "metadata": {},
   "outputs": [],
   "source": [
    "for item in video:\n",
    "\tprint(item)\n",
    "\n",
    "print(video['download'][0]['link'])"
   ]
  }
 ],
 "metadata": {
  "kernelspec": {
   "display_name": "Python [conda env:base] *",
   "language": "python",
   "name": "conda-base-py"
  },
  "language_info": {
   "codemirror_mode": {
    "name": "ipython",
    "version": 3
   },
   "file_extension": ".py",
   "mimetype": "text/x-python",
   "name": "python",
   "nbconvert_exporter": "python",
   "pygments_lexer": "ipython3",
   "version": "3.12.7"
  }
 },
 "nbformat": 4,
 "nbformat_minor": 5
}
