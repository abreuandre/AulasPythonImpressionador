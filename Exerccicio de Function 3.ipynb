{
 "cells": [
  {
   "cell_type": "markdown",
   "metadata": {},
   "source": [
    "# Exercícios\n",
    "\n",
    "### Antes de irmos para o desafio que apresentamos na última aula (que é bem mais complexo do que um exemplo simples) vamos resolver um exercício um pouco mais simples para treinar\n",
    "\n",
    "## 1. Cálculo do Percentual e da Lista de Vendedores\n",
    "\n",
    "- Queremos criar uma function que consiga identificar os vendedores que bateram uma meta, mas além disso, consigo já me dar como resposta o cálculo do % da lista de vendedores que bateu a meta (para eu não precisar calcular manualmente depois)\n",
    "- Essa function deve receber 2 informações como parâmetro: a meta e um dicionário com os vendedores e suas vendas. E me dar 2 respostas: uma lista com o nome dos vendedores que bateram a meta e o % de vendedores que bateu a meta."
   ]
  },
  {
   "cell_type": "code",
   "execution_count": 23,
   "metadata": {},
   "outputs": [],
   "source": [
    "meta = 10000\n",
    "vendas = {\n",
    "    'João': 15000,\n",
    "    'Julia': 27000,\n",
    "    'Marcus': 9900,\n",
    "    'Maria': 3750,\n",
    "    'Ana': 10300,\n",
    "    'Alon': 7870,\n",
    "}"
   ]
  },
  {
   "cell_type": "code",
   "execution_count": 25,
   "metadata": {},
   "outputs": [],
   "source": [
    "#crie sua function aqui\n",
    "def calculo_meta(meta, vendas):\n",
    "    venderores_meta_batida_nome = []\n",
    "    for vendedor in vendas:\n",
    "        if vendas[vendedor] >= meta:\n",
    "            venderores_meta_batida_nome.append(vendedor)\n",
    "    percentual_vendedores_meta_batida = len(vendedores_meta_batida_nome) / len(vendas)\n",
    "    return vendedores_meta_batida_nome, percentual_vendedores_meta_batida"
   ]
  },
  {
   "cell_type": "code",
   "execution_count": 27,
   "metadata": {},
   "outputs": [
    {
     "ename": "NameError",
     "evalue": "name 'vendedores_meta_batida_nome' is not defined",
     "output_type": "error",
     "traceback": [
      "\u001b[1;31m---------------------------------------------------------------------------\u001b[0m",
      "\u001b[1;31mNameError\u001b[0m                                 Traceback (most recent call last)",
      "Cell \u001b[1;32mIn[27], line 2\u001b[0m\n\u001b[0;32m      1\u001b[0m \u001b[38;5;66;03m#aplique sua function nas informações para ver se está funcionando\u001b[39;00m\n\u001b[1;32m----> 2\u001b[0m percent_meta, vendedores_acima_meta \u001b[38;5;241m=\u001b[39m calculo_meta(meta, vendas)\n\u001b[0;32m      3\u001b[0m \u001b[38;5;28mprint\u001b[39m(percent_meta)\n\u001b[0;32m      4\u001b[0m \u001b[38;5;28mprint\u001b[39m(vendedores_acima_meta)\n",
      "Cell \u001b[1;32mIn[25], line 6\u001b[0m, in \u001b[0;36mcalculo_meta\u001b[1;34m(meta, vendas)\u001b[0m\n\u001b[0;32m      4\u001b[0m \u001b[38;5;28;01mfor\u001b[39;00m vendedor \u001b[38;5;129;01min\u001b[39;00m vendas:\n\u001b[0;32m      5\u001b[0m     \u001b[38;5;28;01mif\u001b[39;00m vendas[vendedor] \u001b[38;5;241m>\u001b[39m\u001b[38;5;241m=\u001b[39m meta:\n\u001b[1;32m----> 6\u001b[0m         vendedores_meta_batida_nome\u001b[38;5;241m.\u001b[39mappend(vendedor)\n\u001b[0;32m      7\u001b[0m percentual_vendedores_meta_batida \u001b[38;5;241m=\u001b[39m \u001b[38;5;28mlen\u001b[39m(vendedores_meta_batida_nome) \u001b[38;5;241m/\u001b[39m \u001b[38;5;28mlen\u001b[39m(vendas)\n\u001b[0;32m      8\u001b[0m \u001b[38;5;28;01mreturn\u001b[39;00m vendedores_meta_batida_nome, percentual_vendedores_meta_batida\n",
      "\u001b[1;31mNameError\u001b[0m: name 'vendedores_meta_batida_nome' is not defined"
     ]
    }
   ],
   "source": [
    "#aplique sua function nas informações para ver se está funcionando\n",
    "percent_meta, vendedores_acima_meta = calculo_meta(meta, vendas)\n",
    "print(percent_meta)\n",
    "print(vendedores_acima_meta)"
   ]
  },
  {
   "cell_type": "code",
   "execution_count": null,
   "metadata": {},
   "outputs": [],
   "source": []
  }
 ],
 "metadata": {
  "kernelspec": {
   "display_name": "Python [conda env:base] *",
   "language": "python",
   "name": "conda-base-py"
  },
  "language_info": {
   "codemirror_mode": {
    "name": "ipython",
    "version": 3
   },
   "file_extension": ".py",
   "mimetype": "text/x-python",
   "name": "python",
   "nbconvert_exporter": "python",
   "pygments_lexer": "ipython3",
   "version": "3.12.7"
  }
 },
 "nbformat": 4,
 "nbformat_minor": 4
}
