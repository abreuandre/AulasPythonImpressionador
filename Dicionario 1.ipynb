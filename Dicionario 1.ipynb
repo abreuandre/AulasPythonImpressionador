{
 "cells": [
  {
   "cell_type": "markdown",
   "id": "60ad5e86-f21b-4f82-bded-f281073cb218",
   "metadata": {},
   "source": [
    "Dicionários em Python\n",
    "\n",
    "Estrutura:\n",
    "\n",
    "dicionario = {chave: valor, chave: valor, chave: valor, chave: valor ...}\n",
    "\n",
    "Vantagens e Desvantagens\n",
    ".Não devem ser usados para pegar itens em uma determinada ordem\n",
    ".Podem ter valores heterogêneos (vários tipos de valores dentro de um mesmo dicionário: inteiros, strings, listas, etc)\n",
    ".Chaves são únicas obrigatoriamente\n",
    ".Mais intuitivos de trabalhar"
   ]
  },
  {
   "cell_type": "code",
   "execution_count": 7,
   "id": "1737bca4-1100-450e-9b0b-f67589bd1a19",
   "metadata": {},
   "outputs": [],
   "source": [
    "mais_vendidos = {'tecnologia': 'iphone', 'refrigeracao': 'ar consul 12000 btu', 'livros': 'o alquimista', 'eletrodoméstico': 'geladeira', 'lazer': 'prancha surf'}\n",
    "\n",
    "vendas_tecnologia = {'iphone': 15000, 'samsung galaxy': 12000, 'tv samsung': 10000, 'ps5': 14300, 'tablet': 1720, 'ipad': 1000, 'tv philco': 2500, 'notebook hp': 1000, 'notebook dell': 17000, 'notebook asus': 2450}"
   ]
  },
  {
   "cell_type": "markdown",
   "id": "673ffb9f-2c23-4fed-9e1e-17d58977d29f",
   "metadata": {},
   "source": [
    ".Qual foi o item mais vendido nas categorias 'livros' e 'lazer'?\n",
    ".Quanto foi vendido de 'notebook asus' e de 'ipad'?"
   ]
  },
  {
   "cell_type": "code",
   "execution_count": 15,
   "id": "5e5ca641-fcba-499b-aaee-ec9821920ba8",
   "metadata": {},
   "outputs": [
    {
     "name": "stdout",
     "output_type": "stream",
     "text": [
      "o alquimista\n",
      "prancha surf\n",
      "2450\n",
      "1000\n"
     ]
    }
   ],
   "source": [
    "livro = mais_vendidos['livros']\n",
    "lazer = mais_vendidos['lazer']\n",
    "print(livro)\n",
    "print(lazer)\n",
    "qtde_noteasus = vendas_tecnologia['notebook asus']\n",
    "qtde_ipad = vendas_tecnologia['ipad']\n",
    "print(qtde_noteasus)\n",
    "print(qtde_ipad)"
   ]
  },
  {
   "cell_type": "code",
   "execution_count": null,
   "id": "55fd893b-4f48-44da-b012-2cdac4e5b4e8",
   "metadata": {},
   "outputs": [],
   "source": []
  }
 ],
 "metadata": {
  "kernelspec": {
   "display_name": "Python [conda env:base] *",
   "language": "python",
   "name": "conda-base-py"
  },
  "language_info": {
   "codemirror_mode": {
    "name": "ipython",
    "version": 3
   },
   "file_extension": ".py",
   "mimetype": "text/x-python",
   "name": "python",
   "nbconvert_exporter": "python",
   "pygments_lexer": "ipython3",
   "version": "3.12.7"
  }
 },
 "nbformat": 4,
 "nbformat_minor": 5
}
