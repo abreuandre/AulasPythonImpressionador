{
 "cells": [
  {
   "cell_type": "markdown",
   "id": "ef14bc7b-2915-4f85-aea3-e4f700a0393a",
   "metadata": {},
   "source": [
    "Estrutura\n",
    "\n",
    "dicionario = {chave: valor, chave: valor, chave: valor ...}"
   ]
  },
  {
   "cell_type": "code",
   "execution_count": 17,
   "id": "0ddb1eff-bf4f-42fb-89fc-a0fd6f559064",
   "metadata": {},
   "outputs": [],
   "source": [
    "mais_vendidos = {'tecnologia': 'iphone', 'refrigeracao': 'ar consul 1200 btu', 'livros': 'O alquimista', 'lazer': 'prancha de surf'}\n",
    "\n",
    "vendas_tecnologia = {'iphone': 15000, 'samsung galaxy': 12000, 'tv samsung': 10000, 'ps5': 14300, 'tablet': 1720, 'ipad': 1000, 'notebook asus': 2450}"
   ]
  },
  {
   "cell_type": "markdown",
   "id": "35922a8d-cbb9-402a-9f00-fbd27797cf98",
   "metadata": {},
   "source": [
    "Qual foi o item mais vendido nas categorias 'livros' e 'lazer'?\n",
    "Quanto foi vendido de 'notebook asus' e de 'Ipad'?"
   ]
  },
  {
   "cell_type": "code",
   "execution_count": 19,
   "id": "b5b3ccad-78ab-4adc-8b1a-0b757e3f50fc",
   "metadata": {},
   "outputs": [
    {
     "name": "stdout",
     "output_type": "stream",
     "text": [
      "O alquimista\n",
      "prancha de surf\n",
      "2450\n",
      "1000\n"
     ]
    }
   ],
   "source": [
    "livro = mais_vendidos['livros']\n",
    "lazer = mais_vendidos['lazer']\n",
    "print(livro)\n",
    "print(lazer)\n",
    "qtde_noteasus = vendas_tecnologia['notebook asus']\n",
    "qtde_ipad = vendas_tecnologia['ipad']\n",
    "print(qtde_noteasus)\n",
    "print(qtde_ipad)"
   ]
  },
  {
   "cell_type": "code",
   "execution_count": 21,
   "id": "16d6e54f-0532-42d1-b074-2c4ff4d93431",
   "metadata": {},
   "outputs": [
    {
     "name": "stdout",
     "output_type": "stream",
     "text": [
      "O livro mais vendido foi O alquimista\n",
      "O produto mais vendido em lazer foi prancha de surf\n",
      "2450\n",
      "Vendemos 1000 ipads\n"
     ]
    }
   ],
   "source": [
    "# respondendo com chave\n",
    "print('O livro mais vendido foi {}' .format(mais_vendidos['livros']))\n",
    "print('O produto mais vendido em lazer foi {}' .format(mais_vendidos['lazer']))\n",
    "# respondendo com o método get\n",
    "print(vendas_tecnologia.get('notebook asus'))\n",
    "print('Vendemos {} ipads' .format(vendas_tecnologia.get('ipad')))"
   ]
  },
  {
   "cell_type": "code",
   "execution_count": 25,
   "id": "4363c8c9-f60f-4c2b-bae8-f204a6640ae0",
   "metadata": {},
   "outputs": [
    {
     "name": "stdout",
     "output_type": "stream",
     "text": [
      "Copo não está dentro da lista de produtos de tecnologia\n"
     ]
    }
   ],
   "source": [
    "if 'copo' in vendas_tecnologia:\n",
    "    print(vendas_tecnologia['copo'])\n",
    "else:\n",
    "    print('Copo não está dentro da lista de produtos de tecnologia')"
   ]
  },
  {
   "cell_type": "code",
   "execution_count": 27,
   "id": "9360e369-6945-4f4f-a941-a236aa825611",
   "metadata": {},
   "outputs": [
    {
     "name": "stdout",
     "output_type": "stream",
     "text": [
      "Copo não está dentro da lista de produtos de tecnologia\n"
     ]
    }
   ],
   "source": [
    "if vendas_tecnologia.get('copo') == None:\n",
    "    print('Copo não está dentro da lista de produtos de tecnologia')\n",
    "else:\n",
    "    print(vendas_tecnologia.get('copo'))"
   ]
  },
  {
   "cell_type": "code",
   "execution_count": null,
   "id": "d21275e2-0c2e-4756-8534-25824d8f938e",
   "metadata": {},
   "outputs": [],
   "source": []
  }
 ],
 "metadata": {
  "kernelspec": {
   "display_name": "Python [conda env:base] *",
   "language": "python",
   "name": "conda-base-py"
  },
  "language_info": {
   "codemirror_mode": {
    "name": "ipython",
    "version": 3
   },
   "file_extension": ".py",
   "mimetype": "text/x-python",
   "name": "python",
   "nbconvert_exporter": "python",
   "pygments_lexer": "ipython3",
   "version": "3.12.7"
  }
 },
 "nbformat": 4,
 "nbformat_minor": 5
}
