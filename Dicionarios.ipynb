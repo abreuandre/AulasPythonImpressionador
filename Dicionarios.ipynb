{
 "cells": [
  {
   "cell_type": "markdown",
   "id": "ef14bc7b-2915-4f85-aea3-e4f700a0393a",
   "metadata": {},
   "source": [
    "Estrutura\n",
    "\n",
    "dicionario = {chave: valor, chave: valor, chave: valor ...}"
   ]
  },
  {
   "cell_type": "code",
   "execution_count": 17,
   "id": "0ddb1eff-bf4f-42fb-89fc-a0fd6f559064",
   "metadata": {},
   "outputs": [],
   "source": [
    "mais_vendidos = {'tecnologia': 'iphone', 'refrigeracao': 'ar consul 1200 btu', 'livros': 'O alquimista', 'lazer': 'prancha de surf'}\n",
    "\n",
    "vendas_tecnologia = {'iphone': 15000, 'samsung galaxy': 12000, 'tv samsung': 10000, 'ps5': 14300, 'tablet': 1720, 'ipad': 1000, 'notebook asus': 2450}"
   ]
  },
  {
   "cell_type": "markdown",
   "id": "35922a8d-cbb9-402a-9f00-fbd27797cf98",
   "metadata": {},
   "source": [
    "Qual foi o item mais vendido nas categorias 'livros' e 'lazer'?\n",
    "Quanto foi vendido de 'notebook asus' e de 'Ipad'?"
   ]
  },
  {
   "cell_type": "code",
   "execution_count": 19,
   "id": "b5b3ccad-78ab-4adc-8b1a-0b757e3f50fc",
   "metadata": {},
   "outputs": [
    {
     "name": "stdout",
     "output_type": "stream",
     "text": [
      "O alquimista\n",
      "prancha de surf\n",
      "2450\n",
      "1000\n"
     ]
    }
   ],
   "source": [
    "livro = mais_vendidos['livros']\n",
    "lazer = mais_vendidos['lazer']\n",
    "print(livro)\n",
    "print(lazer)\n",
    "qtde_noteasus = vendas_tecnologia['notebook asus']\n",
    "qtde_ipad = vendas_tecnologia['ipad']\n",
    "print(qtde_noteasus)\n",
    "print(qtde_ipad)"
   ]
  },
  {
   "cell_type": "code",
   "execution_count": 21,
   "id": "16d6e54f-0532-42d1-b074-2c4ff4d93431",
   "metadata": {},
   "outputs": [
    {
     "name": "stdout",
     "output_type": "stream",
     "text": [
      "O livro mais vendido foi O alquimista\n",
      "O produto mais vendido em lazer foi prancha de surf\n",
      "2450\n",
      "Vendemos 1000 ipads\n"
     ]
    }
   ],
   "source": [
    "# respondendo com chave\n",
    "print('O livro mais vendido foi {}' .format(mais_vendidos['livros']))\n",
    "print('O produto mais vendido em lazer foi {}' .format(mais_vendidos['lazer']))\n",
    "# respondendo com o método get\n",
    "print(vendas_tecnologia.get('notebook asus'))\n",
    "print('Vendemos {} ipads' .format(vendas_tecnologia.get('ipad')))"
   ]
  },
  {
   "cell_type": "code",
   "execution_count": 25,
   "id": "4363c8c9-f60f-4c2b-bae8-f204a6640ae0",
   "metadata": {},
   "outputs": [
    {
     "name": "stdout",
     "output_type": "stream",
     "text": [
      "Copo não está dentro da lista de produtos de tecnologia\n"
     ]
    }
   ],
   "source": [
    "if 'copo' in vendas_tecnologia:\n",
    "    print(vendas_tecnologia['copo'])\n",
    "else:\n",
    "    print('Copo não está dentro da lista de produtos de tecnologia')"
   ]
  },
  {
   "cell_type": "code",
   "execution_count": 27,
   "id": "9360e369-6945-4f4f-a941-a236aa825611",
   "metadata": {},
   "outputs": [
    {
     "name": "stdout",
     "output_type": "stream",
     "text": [
      "Copo não está dentro da lista de produtos de tecnologia\n"
     ]
    }
   ],
   "source": [
    "if vendas_tecnologia.get('copo') == None:\n",
    "    print('Copo não está dentro da lista de produtos de tecnologia')\n",
    "else:\n",
    "    print(vendas_tecnologia.get('copo'))"
   ]
  },
  {
   "cell_type": "markdown",
   "id": "8e84cf8d-a633-4aa0-abd4-2f9cf7e77934",
   "metadata": {},
   "source": [
    "Como ADICIONAR itens no dicionário?\n",
    "\n",
    "dicionario = {}\n",
    "\n",
    "dicionario[chave] = valor\n",
    "\n",
    "outra opção:\n",
    "dicionario.update({chave: valor, chave: valor})\n"
   ]
  },
  {
   "cell_type": "code",
   "execution_count": 70,
   "id": "d1013002-9e7a-449a-ab7c-acf0d127328f",
   "metadata": {},
   "outputs": [
    {
     "name": "stdout",
     "output_type": "stream",
     "text": [
      "{'janeiro': 100000, 'fevereiro': 120000, 'março': 90000}\n",
      "{'janeiro': 100000, 'fevereiro': 120000, 'março': 90000, 'abril': 88000}\n",
      "{'janeiro': 100000, 'fevereiro': 120000, 'março': 90000, 'abril': 88000, 'maio': 89000, 'junho': 120000}\n",
      "{'janeiro': 88000, 'fevereiro': 120000, 'março': 90000, 'abril': 88000, 'maio': 89000, 'junho': 120000}\n"
     ]
    }
   ],
   "source": [
    "lucro_1tri = {'janeiro': 100000, 'fevereiro': 120000, 'março': 90000}\n",
    "lucro_2tri = {'abril': 88000, 'maio': 89000, 'junho': 120000}\n",
    "# adicionando 1 item\n",
    "print(lucro_1tri)\n",
    "lucro_1tri['abril'] = 88000\n",
    "print(lucro_1tri)\n",
    "# adicionando vários itens ou um dicionário a outro\n",
    "lucro_1tri.update({'abril': 88000, 'maio': 89000, 'junho': 120000})\n",
    "print(lucro_1tri)\n",
    "# adicionando um item já existente (manualmente ou pelo update)\n",
    "lucro_1tri['janeiro'] = 88000\n",
    "print(lucro_1tri)"
   ]
  },
  {
   "cell_type": "code",
   "execution_count": 72,
   "id": "89ef2697-7f33-423c-831c-9564ef71ad5c",
   "metadata": {},
   "outputs": [
    {
     "name": "stdout",
     "output_type": "stream",
     "text": [
      "{'janeiro': 88000, 'fevereiro': 85000, 'março': 90000, 'abril': 88000, 'maio': 89000, 'junho': 120000}\n"
     ]
    }
   ],
   "source": [
    "lucro_fev = 85000\n",
    "\n",
    "lucro_1tri['fevereiro'] = lucro_fev\n",
    "print(lucro_1tri)"
   ]
  },
  {
   "cell_type": "markdown",
   "id": "f1f119ec-8897-41f6-9f29-eb90f4887147",
   "metadata": {},
   "source": [
    "Remover itens"
   ]
  },
  {
   "cell_type": "code",
   "execution_count": 58,
   "id": "359ee730-128b-4c97-9d23-4b5bb33fd2a8",
   "metadata": {},
   "outputs": [
    {
     "name": "stdout",
     "output_type": "stream",
     "text": [
      "{'janeiro': 88000, 'fevereiro': 85000, 'março': 90000, 'abril': 88000, 'maio': 89000}\n"
     ]
    }
   ],
   "source": [
    "# removendo o mês de junho\n",
    "del lucro_1tri['junho']\n",
    "print(lucro_1tri)\n",
    "\n",
    "# obs: o del também funciona para listas, caso queira usar\n",
    "# del lista[i]\n",
    "funcionarios = ['João', 'Lira', 'Maria', 'Ana', 'Paula']"
   ]
  },
  {
   "cell_type": "code",
   "execution_count": 52,
   "id": "de0511c5-b85f-4611-ad9c-ea0109e2aff8",
   "metadata": {},
   "outputs": [
    {
     "name": "stdout",
     "output_type": "stream",
     "text": [
      "{'janeiro': 88000, 'fevereiro': 85000, 'março': 90000, 'abril': 88000, 'maio': 89000}\n",
      "120000\n"
     ]
    }
   ],
   "source": [
    "# removendo o mês de junho\n",
    "lucro_jun = lucro_1tri.pop('junho')\n",
    "print(lucro_1tri)\n",
    "print(lucro_jun)\n",
    "\n",
    "# obs: o del também funciona para listas, caso queira usar\n",
    "# del lista[i]\n",
    "funcionarios = ['João', 'Lira', 'Maria', 'Ana', 'Paula']"
   ]
  },
  {
   "cell_type": "code",
   "execution_count": 66,
   "id": "86863d3d-7b98-4b14-80a0-66fa322583ce",
   "metadata": {},
   "outputs": [
    {
     "name": "stdout",
     "output_type": "stream",
     "text": [
      "{}\n"
     ]
    }
   ],
   "source": [
    "# removendo o mês de junho\n",
    "lucro_jun = lucro_1tri.pop('junho')\n",
    "# print(lucro_1tri)\n",
    "# print(lucro_jun)\n",
    "\n",
    "lucro_1tri.clear()\n",
    "print(lucro_1tri)\n",
    "\n",
    "# obs: o del também funciona para listas, caso queira usar\n",
    "# del lista[i]\n",
    "funcionarios = ['João', 'Lira', 'Maria', 'Ana', 'Paula']"
   ]
  },
  {
   "cell_type": "code",
   "execution_count": 74,
   "id": "0410c0a9-f3ca-430d-812e-47030bf73f99",
   "metadata": {},
   "outputs": [
    {
     "name": "stdout",
     "output_type": "stream",
     "text": [
      "{}\n",
      "['Lira', 'Maria', 'Ana', 'Paula']\n"
     ]
    }
   ],
   "source": [
    "# removendo o mês de junho\n",
    "lucro_jun = lucro_1tri.pop('junho')\n",
    "# print(lucro_1tri)\n",
    "# print(lucro_jun)\n",
    "\n",
    "lucro_1tri.clear()\n",
    "print(lucro_1tri)\n",
    "\n",
    "# obs: o del também funciona para listas, caso queira usar\n",
    "# del lista[i]\n",
    "funcionarios = ['João', 'Lira', 'Maria', 'Ana', 'Paula']\n",
    "del funcionarios[0]\n",
    "print(funcionarios)"
   ]
  },
  {
   "cell_type": "code",
   "execution_count": null,
   "id": "c7d9677f-2bc6-4653-9e46-88fb801c7187",
   "metadata": {},
   "outputs": [],
   "source": []
  }
 ],
 "metadata": {
  "kernelspec": {
   "display_name": "Python [conda env:base] *",
   "language": "python",
   "name": "conda-base-py"
  },
  "language_info": {
   "codemirror_mode": {
    "name": "ipython",
    "version": 3
   },
   "file_extension": ".py",
   "mimetype": "text/x-python",
   "name": "python",
   "nbconvert_exporter": "python",
   "pygments_lexer": "ipython3",
   "version": "3.12.7"
  }
 },
 "nbformat": 4,
 "nbformat_minor": 5
}
