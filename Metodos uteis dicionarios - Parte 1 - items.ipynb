{
 "cells": [
  {
   "cell_type": "markdown",
   "id": "cd8eee01-949a-478f-b721-e56770ac1595",
   "metadata": {},
   "source": [
    "Métodos Úteis Dicionários(Parte 1) - items"
   ]
  },
  {
   "cell_type": "markdown",
   "id": "3b85a83e-805d-4e23-abbb-f86267427748",
   "metadata": {},
   "source": [
    "Estrutura\n",
    "\n",
    "itens_dicionario = dicionario.items()\n",
    "\n",
    "ou então:\n",
    "\n",
    "for item in dicionario.items()\n",
    "\tcada item do dicionario em formato de tupla"
   ]
  },
  {
   "cell_type": "code",
   "execution_count": null,
   "id": "f0351b74-89dc-4273-b947-8381fcc048b4",
   "metadata": {},
   "outputs": [],
   "source": [
    "itens_dicionario = vendas_tecnologia.items()\n",
    "print(itens_dicionario)"
   ]
  }
 ],
 "metadata": {
  "kernelspec": {
   "display_name": "Python [conda env:base] *",
   "language": "python",
   "name": "conda-base-py"
  },
  "language_info": {
   "codemirror_mode": {
    "name": "ipython",
    "version": 3
   },
   "file_extension": ".py",
   "mimetype": "text/x-python",
   "name": "python",
   "nbconvert_exporter": "python",
   "pygments_lexer": "ipython3",
   "version": "3.12.7"
  }
 },
 "nbformat": 4,
 "nbformat_minor": 5
}
